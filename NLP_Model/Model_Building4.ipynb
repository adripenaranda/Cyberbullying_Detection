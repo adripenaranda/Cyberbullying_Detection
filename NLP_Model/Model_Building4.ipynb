{
  "cells": [
    {
      "cell_type": "markdown",
      "metadata": {
        "id": "fGmzcw52Knmj"
      },
      "source": [
        "# Install and Import Required Libraries "
      ]
    },
    {
      "cell_type": "code",
      "execution_count": null,
      "metadata": {
        "colab": {
          "base_uri": "https://localhost:8080/"
        },
        "collapsed": true,
        "id": "ThprzJFQ36Or",
        "outputId": "da503109-9be0-4a86-f2c1-3320806f5b17"
      },
      "outputs": [
        {
          "name": "stdout",
          "output_type": "stream",
          "text": [
            "Requirement already satisfied: lime in /usr/local/lib/python3.10/dist-packages (0.2.0.1)\n",
            "Requirement already satisfied: matplotlib in /usr/local/lib/python3.10/dist-packages (from lime) (3.7.1)\n",
            "Requirement already satisfied: numpy in /usr/local/lib/python3.10/dist-packages (from lime) (1.26.4)\n",
            "Requirement already satisfied: scipy in /usr/local/lib/python3.10/dist-packages (from lime) (1.13.1)\n",
            "Requirement already satisfied: tqdm in /usr/local/lib/python3.10/dist-packages (from lime) (4.66.5)\n",
            "Requirement already satisfied: scikit-learn>=0.18 in /usr/local/lib/python3.10/dist-packages (from lime) (1.5.1)\n",
            "Requirement already satisfied: scikit-image>=0.12 in /usr/local/lib/python3.10/dist-packages (from lime) (0.23.2)\n",
            "Requirement already satisfied: networkx>=2.8 in /usr/local/lib/python3.10/dist-packages (from scikit-image>=0.12->lime) (3.3)\n",
            "Requirement already satisfied: pillow>=9.1 in /usr/local/lib/python3.10/dist-packages (from scikit-image>=0.12->lime) (9.4.0)\n",
            "Requirement already satisfied: imageio>=2.33 in /usr/local/lib/python3.10/dist-packages (from scikit-image>=0.12->lime) (2.34.2)\n",
            "Requirement already satisfied: tifffile>=2022.8.12 in /usr/local/lib/python3.10/dist-packages (from scikit-image>=0.12->lime) (2024.7.24)\n",
            "Requirement already satisfied: packaging>=21 in /usr/local/lib/python3.10/dist-packages (from scikit-image>=0.12->lime) (24.1)\n",
            "Requirement already satisfied: lazy-loader>=0.4 in /usr/local/lib/python3.10/dist-packages (from scikit-image>=0.12->lime) (0.4)\n",
            "Requirement already satisfied: joblib>=1.2.0 in /usr/local/lib/python3.10/dist-packages (from scikit-learn>=0.18->lime) (1.4.2)\n",
            "Requirement already satisfied: threadpoolctl>=3.1.0 in /usr/local/lib/python3.10/dist-packages (from scikit-learn>=0.18->lime) (3.5.0)\n",
            "Requirement already satisfied: contourpy>=1.0.1 in /usr/local/lib/python3.10/dist-packages (from matplotlib->lime) (1.2.1)\n",
            "Requirement already satisfied: cycler>=0.10 in /usr/local/lib/python3.10/dist-packages (from matplotlib->lime) (0.12.1)\n",
            "Requirement already satisfied: fonttools>=4.22.0 in /usr/local/lib/python3.10/dist-packages (from matplotlib->lime) (4.53.1)\n",
            "Requirement already satisfied: kiwisolver>=1.0.1 in /usr/local/lib/python3.10/dist-packages (from matplotlib->lime) (1.4.5)\n",
            "Requirement already satisfied: pyparsing>=2.3.1 in /usr/local/lib/python3.10/dist-packages (from matplotlib->lime) (3.1.2)\n",
            "Requirement already satisfied: python-dateutil>=2.7 in /usr/local/lib/python3.10/dist-packages (from matplotlib->lime) (2.8.2)\n",
            "Requirement already satisfied: six>=1.5 in /usr/local/lib/python3.10/dist-packages (from python-dateutil>=2.7->matplotlib->lime) (1.16.0)\n"
          ]
        }
      ],
      "source": [
        "#install lime \n",
        "!pip install lime"
      ]
    },
    {
      "cell_type": "code",
      "execution_count": null,
      "metadata": {
        "colab": {
          "base_uri": "https://localhost:8080/"
        },
        "collapsed": true,
        "id": "D5nhaEG4_Fw0",
        "outputId": "774cf654-a365-40e3-a464-9fa233b6f0a7"
      },
      "outputs": [
        {
          "name": "stdout",
          "output_type": "stream",
          "text": [
            "Requirement already satisfied: scikeras in /usr/local/lib/python3.10/dist-packages (0.13.0)\n",
            "Requirement already satisfied: keras>=3.2.0 in /usr/local/lib/python3.10/dist-packages (from scikeras) (3.4.1)\n",
            "Requirement already satisfied: scikit-learn>=1.4.2 in /usr/local/lib/python3.10/dist-packages (from scikeras) (1.5.1)\n",
            "Requirement already satisfied: absl-py in /usr/local/lib/python3.10/dist-packages (from keras>=3.2.0->scikeras) (1.4.0)\n",
            "Requirement already satisfied: numpy in /usr/local/lib/python3.10/dist-packages (from keras>=3.2.0->scikeras) (1.26.4)\n",
            "Requirement already satisfied: rich in /usr/local/lib/python3.10/dist-packages (from keras>=3.2.0->scikeras) (13.7.1)\n",
            "Requirement already satisfied: namex in /usr/local/lib/python3.10/dist-packages (from keras>=3.2.0->scikeras) (0.0.8)\n",
            "Requirement already satisfied: h5py in /usr/local/lib/python3.10/dist-packages (from keras>=3.2.0->scikeras) (3.11.0)\n",
            "Requirement already satisfied: optree in /usr/local/lib/python3.10/dist-packages (from keras>=3.2.0->scikeras) (0.12.1)\n",
            "Requirement already satisfied: ml-dtypes in /usr/local/lib/python3.10/dist-packages (from keras>=3.2.0->scikeras) (0.4.0)\n",
            "Requirement already satisfied: packaging in /usr/local/lib/python3.10/dist-packages (from keras>=3.2.0->scikeras) (24.1)\n",
            "Requirement already satisfied: scipy>=1.6.0 in /usr/local/lib/python3.10/dist-packages (from scikit-learn>=1.4.2->scikeras) (1.13.1)\n",
            "Requirement already satisfied: joblib>=1.2.0 in /usr/local/lib/python3.10/dist-packages (from scikit-learn>=1.4.2->scikeras) (1.4.2)\n",
            "Requirement already satisfied: threadpoolctl>=3.1.0 in /usr/local/lib/python3.10/dist-packages (from scikit-learn>=1.4.2->scikeras) (3.5.0)\n",
            "Requirement already satisfied: typing-extensions>=4.5.0 in /usr/local/lib/python3.10/dist-packages (from optree->keras>=3.2.0->scikeras) (4.12.2)\n",
            "Requirement already satisfied: markdown-it-py>=2.2.0 in /usr/local/lib/python3.10/dist-packages (from rich->keras>=3.2.0->scikeras) (3.0.0)\n",
            "Requirement already satisfied: pygments<3.0.0,>=2.13.0 in /usr/local/lib/python3.10/dist-packages (from rich->keras>=3.2.0->scikeras) (2.16.1)\n",
            "Requirement already satisfied: mdurl~=0.1 in /usr/local/lib/python3.10/dist-packages (from markdown-it-py>=2.2.0->rich->keras>=3.2.0->scikeras) (0.1.2)\n"
          ]
        }
      ],
      "source": [
        "!pip install scikeras"
      ]
    },
    {
      "cell_type": "code",
      "execution_count": null,
      "metadata": {
        "colab": {
          "base_uri": "https://localhost:8080/"
        },
        "collapsed": true,
        "id": "wSKMtNBe_AMH",
        "outputId": "245ccab1-da1b-444d-d48e-ef1b6d83fcf4"
      },
      "outputs": [
        {
          "name": "stdout",
          "output_type": "stream",
          "text": [
            "Requirement already satisfied: tensorflow in /usr/local/lib/python3.10/dist-packages (2.17.0)\n",
            "Requirement already satisfied: absl-py>=1.0.0 in /usr/local/lib/python3.10/dist-packages (from tensorflow) (1.4.0)\n",
            "Requirement already satisfied: astunparse>=1.6.0 in /usr/local/lib/python3.10/dist-packages (from tensorflow) (1.6.3)\n",
            "Requirement already satisfied: flatbuffers>=24.3.25 in /usr/local/lib/python3.10/dist-packages (from tensorflow) (24.3.25)\n",
            "Requirement already satisfied: gast!=0.5.0,!=0.5.1,!=0.5.2,>=0.2.1 in /usr/local/lib/python3.10/dist-packages (from tensorflow) (0.6.0)\n",
            "Requirement already satisfied: google-pasta>=0.1.1 in /usr/local/lib/python3.10/dist-packages (from tensorflow) (0.2.0)\n",
            "Requirement already satisfied: h5py>=3.10.0 in /usr/local/lib/python3.10/dist-packages (from tensorflow) (3.11.0)\n",
            "Requirement already satisfied: libclang>=13.0.0 in /usr/local/lib/python3.10/dist-packages (from tensorflow) (18.1.1)\n",
            "Requirement already satisfied: ml-dtypes<0.5.0,>=0.3.1 in /usr/local/lib/python3.10/dist-packages (from tensorflow) (0.4.0)\n",
            "Requirement already satisfied: opt-einsum>=2.3.2 in /usr/local/lib/python3.10/dist-packages (from tensorflow) (3.3.0)\n",
            "Requirement already satisfied: packaging in /usr/local/lib/python3.10/dist-packages (from tensorflow) (24.1)\n",
            "Requirement already satisfied: protobuf!=4.21.0,!=4.21.1,!=4.21.2,!=4.21.3,!=4.21.4,!=4.21.5,<5.0.0dev,>=3.20.3 in /usr/local/lib/python3.10/dist-packages (from tensorflow) (3.20.3)\n",
            "Requirement already satisfied: requests<3,>=2.21.0 in /usr/local/lib/python3.10/dist-packages (from tensorflow) (2.32.3)\n",
            "Requirement already satisfied: setuptools in /usr/local/lib/python3.10/dist-packages (from tensorflow) (71.0.4)\n",
            "Requirement already satisfied: six>=1.12.0 in /usr/local/lib/python3.10/dist-packages (from tensorflow) (1.16.0)\n",
            "Requirement already satisfied: termcolor>=1.1.0 in /usr/local/lib/python3.10/dist-packages (from tensorflow) (2.4.0)\n",
            "Requirement already satisfied: typing-extensions>=3.6.6 in /usr/local/lib/python3.10/dist-packages (from tensorflow) (4.12.2)\n",
            "Requirement already satisfied: wrapt>=1.11.0 in /usr/local/lib/python3.10/dist-packages (from tensorflow) (1.16.0)\n",
            "Requirement already satisfied: grpcio<2.0,>=1.24.3 in /usr/local/lib/python3.10/dist-packages (from tensorflow) (1.64.1)\n",
            "Requirement already satisfied: tensorboard<2.18,>=2.17 in /usr/local/lib/python3.10/dist-packages (from tensorflow) (2.17.0)\n",
            "Requirement already satisfied: keras>=3.2.0 in /usr/local/lib/python3.10/dist-packages (from tensorflow) (3.4.1)\n",
            "Requirement already satisfied: tensorflow-io-gcs-filesystem>=0.23.1 in /usr/local/lib/python3.10/dist-packages (from tensorflow) (0.37.1)\n",
            "Requirement already satisfied: numpy<2.0.0,>=1.23.5 in /usr/local/lib/python3.10/dist-packages (from tensorflow) (1.26.4)\n",
            "Requirement already satisfied: wheel<1.0,>=0.23.0 in /usr/local/lib/python3.10/dist-packages (from astunparse>=1.6.0->tensorflow) (0.44.0)\n",
            "Requirement already satisfied: rich in /usr/local/lib/python3.10/dist-packages (from keras>=3.2.0->tensorflow) (13.7.1)\n",
            "Requirement already satisfied: namex in /usr/local/lib/python3.10/dist-packages (from keras>=3.2.0->tensorflow) (0.0.8)\n",
            "Requirement already satisfied: optree in /usr/local/lib/python3.10/dist-packages (from keras>=3.2.0->tensorflow) (0.12.1)\n",
            "Requirement already satisfied: charset-normalizer<4,>=2 in /usr/local/lib/python3.10/dist-packages (from requests<3,>=2.21.0->tensorflow) (3.3.2)\n",
            "Requirement already satisfied: idna<4,>=2.5 in /usr/local/lib/python3.10/dist-packages (from requests<3,>=2.21.0->tensorflow) (3.7)\n",
            "Requirement already satisfied: urllib3<3,>=1.21.1 in /usr/local/lib/python3.10/dist-packages (from requests<3,>=2.21.0->tensorflow) (2.0.7)\n",
            "Requirement already satisfied: certifi>=2017.4.17 in /usr/local/lib/python3.10/dist-packages (from requests<3,>=2.21.0->tensorflow) (2024.7.4)\n",
            "Requirement already satisfied: markdown>=2.6.8 in /usr/local/lib/python3.10/dist-packages (from tensorboard<2.18,>=2.17->tensorflow) (3.6)\n",
            "Requirement already satisfied: tensorboard-data-server<0.8.0,>=0.7.0 in /usr/local/lib/python3.10/dist-packages (from tensorboard<2.18,>=2.17->tensorflow) (0.7.2)\n",
            "Requirement already satisfied: werkzeug>=1.0.1 in /usr/local/lib/python3.10/dist-packages (from tensorboard<2.18,>=2.17->tensorflow) (3.0.3)\n",
            "Requirement already satisfied: MarkupSafe>=2.1.1 in /usr/local/lib/python3.10/dist-packages (from werkzeug>=1.0.1->tensorboard<2.18,>=2.17->tensorflow) (2.1.5)\n",
            "Requirement already satisfied: markdown-it-py>=2.2.0 in /usr/local/lib/python3.10/dist-packages (from rich->keras>=3.2.0->tensorflow) (3.0.0)\n",
            "Requirement already satisfied: pygments<3.0.0,>=2.13.0 in /usr/local/lib/python3.10/dist-packages (from rich->keras>=3.2.0->tensorflow) (2.16.1)\n",
            "Requirement already satisfied: mdurl~=0.1 in /usr/local/lib/python3.10/dist-packages (from markdown-it-py>=2.2.0->rich->keras>=3.2.0->tensorflow) (0.1.2)\n"
          ]
        }
      ],
      "source": [
        "!pip install tensorflow"
      ]
    },
    {
      "cell_type": "code",
      "execution_count": null,
      "metadata": {
        "id": "8Ug0LDvv8Pdn"
      },
      "outputs": [],
      "source": [
        "import pandas as pd\n",
        "import numpy as np\n",
        "import matplotlib.pyplot as plt\n",
        "import seaborn as sns\n",
        "import tensorflow as tf\n",
        "import lime\n",
        "import time\n",
        "from datetime import timedelta\n",
        "import pickle\n",
        "from tensorflow import keras\n",
        "from sklearn.model_selection import train_test_split\n",
        "from sklearn.metrics import roc_auc_score\n",
        "from sklearn.utils.class_weight import compute_class_weight\n",
        "from sklearn.preprocessing import StandardScaler\n",
        "from tensorflow.keras.models import Sequential , Model\n",
        "from tensorflow.keras.layers import Input, Embedding, Concatenate, LSTM, Dense, Dropout, Layer, Concatenate, Lambda, Reshape, BatchNormalization, GRU\n",
        "from tensorflow.keras.layers import Bidirectional\n",
        "from tensorflow.keras.metrics import AUC\n",
        "from tensorflow.keras.preprocessing.text import Tokenizer\n",
        "from tensorflow.keras.preprocessing.sequence import pad_sequences\n",
        "from tensorflow.keras.optimizers import Adam\n",
        "from tensorflow.keras.callbacks import EarlyStopping ,ModelCheckpoint, ReduceLROnPlateau\n",
        "from tensorflow.keras.regularizers import l2, l1_l2\n",
        "from tensorflow.keras.layers import BatchNormalization\n",
        "from gensim.models.fasttext import load_facebook_vectors\n",
        "from imblearn.over_sampling import SMOTE\n",
        "from imblearn.combine import SMOTETomek\n",
        "from sklearn.utils.class_weight import compute_class_weight\n",
        "import tensorflow_hub as hub\n"
      ]
    },
    {
      "cell_type": "markdown",
      "metadata": {
        "id": "e6XimAiX7RLu"
      },
      "source": [
        "# Loading the Data from Preprocessing Step"
      ]
    },
    {
      "cell_type": "code",
      "execution_count": null,
      "metadata": {
        "colab": {
          "base_uri": "https://localhost:8080/"
        },
        "id": "T-XhZah0Tuza",
        "outputId": "4b31fe59-6562-491d-cc4f-9df71215a2f2"
      },
      "outputs": [
        {
          "name": "stdout",
          "output_type": "stream",
          "text": [
            "Drive already mounted at /content/drive; to attempt to forcibly remount, call drive.mount(\"/content/drive\", force_remount=True).\n"
          ]
        }
      ],
      "source": [
        "from google.colab import drive\n",
        "drive.mount('/content/drive')"
      ]
    },
    {
      "cell_type": "code",
      "execution_count": null,
      "metadata": {
        "id": "KzHic8uI68WI"
      },
      "outputs": [],
      "source": [
        "df = pd.read_csv('/content/drive/MyDrive/Lambton Colledge/Term 3 (Spring 2024)/AML 2304-Natural Language Processing/Cyberbullying_Detection/NLP_Model/sentiment_and_topics.csv')"
      ]
    },
    {
      "cell_type": "code",
      "execution_count": null,
      "metadata": {
        "colab": {
          "base_uri": "https://localhost:8080/"
        },
        "id": "C4302orbwDK5",
        "outputId": "141ac662-38df-42e8-d66e-4de92a4e2864"
      },
      "outputs": [
        {
          "name": "stdout",
          "output_type": "stream",
          "text": [
            "object\n",
            "50\n"
          ]
        }
      ],
      "source": [
        "print(df['cleaned_text'].dtype)\n",
        "print(df['cleaned_text'].isnull().sum())"
      ]
    },
    {
      "cell_type": "code",
      "execution_count": null,
      "metadata": {
        "id": "wJmWdtJY8W5W"
      },
      "outputs": [],
      "source": [
        "df['cleaned_text'] = df['cleaned_text'].astype(str).replace('nan', '')"
      ]
    },
    {
      "cell_type": "code",
      "execution_count": null,
      "metadata": {
        "id": "VbKgFpT98bYF"
      },
      "outputs": [],
      "source": [
        "# Prepare the text data\n",
        "text_data = df['cleaned_text'].values  # or 'custom_tokens' if it's already tokenized\n",
        "max_words = 10000\n",
        "max_len = 200"
      ]
    },
    {
      "cell_type": "code",
      "execution_count": null,
      "metadata": {
        "id": "KYcTNTW-7sRw"
      },
      "outputs": [],
      "source": [
        "tokenizer = Tokenizer(num_words=max_words)\n",
        "tokenizer.fit_on_texts(text_data)\n",
        "X_text = tokenizer.texts_to_sequences(text_data)\n",
        "X_text_pad = pad_sequences(X_text, maxlen=max_len)"
      ]
    },
    {
      "cell_type": "code",
      "execution_count": null,
      "metadata": {
        "id": "aAzFEAONNJwh"
      },
      "outputs": [],
      "source": [
        "# Pickle the tokenized and padded sequences\n",
        "with open('tokenized_data.pkl', 'wb') as f:\n",
        "    pickle.dump({'X_text': X_text, 'X_text_pad': X_text_pad}, f)\n"
      ]
    },
    {
      "cell_type": "code",
      "execution_count": null,
      "metadata": {
        "id": "emqWJi0r74XP"
      },
      "outputs": [],
      "source": [
        "# Prepare additional features\n",
        "additional_features = df[['sentiment_polarity', 'sentiment_subjectivity', 'dominant_topic']].values\n",
        "\n",
        "# Normalize additional features\n",
        "scaler = StandardScaler()\n",
        "additional_features_scaled = scaler.fit_transform(additional_features)"
      ]
    },
    {
      "cell_type": "code",
      "execution_count": null,
      "metadata": {
        "id": "j3GGn1FYMUvx"
      },
      "outputs": [],
      "source": [
        "with open('scaled.pkl', 'wb') as f:\n",
        "  pickle.dump(additional_features_scaled, f)\n"
      ]
    },
    {
      "cell_type": "code",
      "execution_count": null,
      "metadata": {
        "colab": {
          "base_uri": "https://localhost:8080/"
        },
        "id": "Q8KTXkmU3enG",
        "outputId": "51eb4c85-1a8f-4787-f705-70b718d578f7"
      },
      "outputs": [
        {
          "name": "stderr",
          "output_type": "stream",
          "text": [
            "<ipython-input-12-7fa9c4966afa>:2: MatplotlibDeprecationWarning: The seaborn styles shipped by Matplotlib are deprecated since 3.6, as they no longer correspond to the styles shipped by seaborn. However, they will remain available as 'seaborn-v0_8-<style>'. Alternatively, directly use the seaborn API instead.\n",
            "  plt.style.use('seaborn')\n"
          ]
        },
        {
          "data": {
            "text/plain": [
              "<Figure size 1500x800 with 0 Axes>"
            ]
          },
          "metadata": {},
          "output_type": "display_data"
        },
        {
          "data": {
            "image/png": "[encoded data removed]",
            "text/plain": [
              "<Figure size 800x550 with 1 Axes>"
            ]
          },
          "metadata": {},
          "output_type": "display_data"
        },
        {
          "data": {
            "text/plain": [
              "<Figure size 1200x600 with 0 Axes>"
            ]
          },
          "metadata": {},
          "output_type": "display_data"
        },
        {
          "data": {
            "image/png": "[encoded data removed]",
            "text/plain": [
              "<Figure size 800x550 with 1 Axes>"
            ]
          },
          "metadata": {},
          "output_type": "display_data"
        },
        {
          "data": {
            "text/plain": [
              "<Figure size 800x550 with 0 Axes>"
            ]
          },
          "metadata": {},
          "output_type": "display_data"
        }
      ],
      "source": [
        "# Set up the plot style\n",
        "plt.style.use('seaborn')\n",
        "\n",
        "# 1. Stacked bar chart for target and sentiment\n",
        "plt.figure(figsize=(15, 8))\n",
        "df['sentiment_category'] = pd.cut(df['sentiment_polarity'],\n",
        "                                  bins=[-1, -0.5, 0, 0.5, 1],\n",
        "                                  labels=['Very Negative', 'Negative', 'Positive', 'Very Positive'])\n",
        "sentiment_target = pd.crosstab(df['sentiment_category'], df['oh_label'], normalize='index')\n",
        "sentiment_target.plot(kind='bar', stacked=True)\n",
        "plt.title('Distribution of Target by Sentiment Category')\n",
        "plt.xlabel('Sentiment Category')\n",
        "plt.ylabel('Proportion')\n",
        "plt.legend(title='Target')\n",
        "plt.tight_layout()\n",
        "plt.show()\n",
        "\n",
        "# 2. Stacked bar chart for dominant topic and target\n",
        "plt.figure(figsize=(12, 6))\n",
        "topic_target = pd.crosstab(df['dominant_topic'], df['oh_label'], normalize='index')\n",
        "topic_target.plot(kind='bar', stacked=True)\n",
        "plt.title('Distribution of Target by Dominant Topic')\n",
        "plt.xlabel('Dominant Topic')\n",
        "plt.ylabel('Proportion')\n",
        "plt.legend(title='Target', title_fontsize='13', fontsize='12', bbox_to_anchor=(1.05, 1), loc='upper left')\n",
        "plt.xticks(rotation=45, ha='right')\n",
        "plt.tight_layout()\n",
        "plt.show()\n",
        "\n",
        "\n",
        "plt.tight_layout()\n",
        "plt.show()"
      ]
    },
    {
      "cell_type": "markdown",
      "metadata": {
        "id": "b-iXKoWw7e6d"
      },
      "source": [
        "# Build The Model"
      ]
    },
    {
      "cell_type": "markdown",
      "metadata": {
        "id": "4T8OVW3s8yCJ"
      },
      "source": [
        "## Split data and define Target Variable"
      ]
    },
    {
      "cell_type": "code",
      "execution_count": null,
      "metadata": {
        "id": "cnvBwn2-78BO"
      },
      "outputs": [],
      "source": [
        "# define target variable\n",
        "y = df['oh_label'].values\n",
        "\n",
        "# Split the data\n",
        "X_text_train, X_text_test, X_feat_train, X_feat_test, y_train, y_test = train_test_split(\n",
        "    X_text_pad, additional_features_scaled, y, test_size=0.2, random_state=42, stratify=y\n",
        ")\n"
      ]
    },
    {
      "cell_type": "markdown",
      "metadata": {
        "id": "gbTO7DgA87v_"
      },
      "source": [
        "# The first Model based on Only TEXT data"
      ]
    },
    {
      "cell_type": "code",
      "execution_count": null,
      "metadata": {
        "colab": {
          "base_uri": "https://localhost:8080/"
        },
        "id": "fkCKWao06jpB",
        "outputId": "97f3e238-a929-45c5-956d-16bcc48f9c44"
      },
      "outputs": [
        {
          "name": "stdout",
          "output_type": "stream",
          "text": [
            "Epoch 1/50\n",
            "\u001b[1m3192/3194\u001b[0m \u001b[32m━━━━━━━━━━━━━━━━━━━\u001b[0m\u001b[37m━\u001b[0m \u001b[1m0s\u001b[0m 9ms/step - accuracy: 0.9363 - auc: 0.8771 - loss: 0.1967\n",
            "Epoch 1: val_auc improved from -inf to 0.96727, saving model to best_model_1.keras\n",
            "\u001b[1m3194/3194\u001b[0m \u001b[32m━━━━━━━━━━━━━━━━━━━━\u001b[0m\u001b[37m\u001b[0m \u001b[1m36s\u001b[0m 10ms/step - accuracy: 0.9363 - auc: 0.8771 - loss: 0.1967 - val_accuracy: 0.9595 - val_auc: 0.9673 - val_loss: 0.1155\n",
            "Epoch 2/50\n",
            "\u001b[1m3192/3194\u001b[0m \u001b[32m━━━━━━━━━━━━━━━━━━━\u001b[0m\u001b[37m━\u001b[0m \u001b[1m0s\u001b[0m 9ms/step - accuracy: 0.9623 - auc: 0.9680 - loss: 0.1073\n",
            "Epoch 2: val_auc did not improve from 0.96727\n",
            "\u001b[1m3194/3194\u001b[0m \u001b[32m━━━━━━━━━━━━━━━━━━━━\u001b[0m\u001b[37m\u001b[0m \u001b[1m33s\u001b[0m 10ms/step - accuracy: 0.9623 - auc: 0.9680 - loss: 0.1073 - val_accuracy: 0.9593 - val_auc: 0.9635 - val_loss: 0.1162\n",
            "Epoch 3/50\n",
            "\u001b[1m3193/3194\u001b[0m \u001b[32m━━━━━━━━━━━━━━━━━━━\u001b[0m\u001b[37m━\u001b[0m \u001b[1m0s\u001b[0m 9ms/step - accuracy: 0.9687 - auc: 0.9795 - loss: 0.0840\n",
            "Epoch 3: val_auc did not improve from 0.96727\n",
            "\u001b[1m3194/3194\u001b[0m \u001b[32m━━━━━━━━━━━━━━━━━━━━\u001b[0m\u001b[37m\u001b[0m \u001b[1m33s\u001b[0m 10ms/step - accuracy: 0.9687 - auc: 0.9795 - loss: 0.0840 - val_accuracy: 0.9578 - val_auc: 0.9661 - val_loss: 0.1194\n",
            "Epoch 4/50\n",
            "\u001b[1m3192/3194\u001b[0m \u001b[32m━━━━━━━━━━━━━━━━━━━\u001b[0m\u001b[37m━\u001b[0m \u001b[1m0s\u001b[0m 9ms/step - accuracy: 0.9741 - auc: 0.9900 - loss: 0.0658\n",
            "Epoch 4: val_auc did not improve from 0.96727\n",
            "\u001b[1m3194/3194\u001b[0m \u001b[32m━━━━━━━━━━━━━━━━━━━━\u001b[0m\u001b[37m\u001b[0m \u001b[1m33s\u001b[0m 10ms/step - accuracy: 0.9741 - auc: 0.9900 - loss: 0.0658 - val_accuracy: 0.9588 - val_auc: 0.9564 - val_loss: 0.1347\n",
            "Epoch 5/50\n",
            "\u001b[1m3194/3194\u001b[0m \u001b[32m━━━━━━━━━━━━━━━━━━━━\u001b[0m\u001b[37m\u001b[0m \u001b[1m0s\u001b[0m 9ms/step - accuracy: 0.9793 - auc: 0.9938 - loss: 0.0521\n",
            "Epoch 5: val_auc did not improve from 0.96727\n",
            "\u001b[1m3194/3194\u001b[0m \u001b[32m━━━━━━━━━━━━━━━━━━━━\u001b[0m\u001b[37m\u001b[0m \u001b[1m33s\u001b[0m 10ms/step - accuracy: 0.9793 - auc: 0.9938 - loss: 0.0521 - val_accuracy: 0.9564 - val_auc: 0.9401 - val_loss: 0.1617\n",
            "Epoch 6/50\n",
            "\u001b[1m3192/3194\u001b[0m \u001b[32m━━━━━━━━━━━━━━━━━━━\u001b[0m\u001b[37m━\u001b[0m \u001b[1m0s\u001b[0m 9ms/step - accuracy: 0.9852 - auc: 0.9965 - loss: 0.0376\n",
            "Epoch 6: val_auc did not improve from 0.96727\n",
            "\u001b[1m3194/3194\u001b[0m \u001b[32m━━━━━━━━━━━━━━━━━━━━\u001b[0m\u001b[37m\u001b[0m \u001b[1m33s\u001b[0m 10ms/step - accuracy: 0.9852 - auc: 0.9965 - loss: 0.0376 - val_accuracy: 0.9508 - val_auc: 0.9422 - val_loss: 0.1887\n",
            "Epoch 6: early stopping\n",
            "Total runtime: 0:03:22.366589\n"
          ]
        }
      ],
      "source": [
        "# Build the first model\n",
        "embedding_dim = 100\n",
        "\n",
        "model_1 = Sequential([\n",
        "    Embedding(max_words, embedding_dim),\n",
        "    LSTM(64),\n",
        "    Dense(64, activation='relu'),\n",
        "    Dropout(0.5),\n",
        "    Dense(1, activation='sigmoid')\n",
        "])\n",
        "\n",
        "# Compile the model\n",
        "model_1.compile(optimizer=Adam(learning_rate=0.001),\n",
        "                loss='binary_crossentropy',\n",
        "                metrics=['accuracy', AUC(name='auc')])\n",
        "\n",
        "# Callbacks\n",
        "early_stopping = EarlyStopping(monitor='val_auc', patience=5, mode='max', verbose=1)\n",
        "model_checkpoint = ModelCheckpoint('best_model_1.keras', monitor='val_auc', mode='max', save_best_only=True, verbose=1)\n",
        "\n",
        "# Record start time\n",
        "start_time = time.time()\n",
        "\n",
        "# Train the model\n",
        "history_1 = model_1.fit(\n",
        "    X_text_train,\n",
        "    y_train,\n",
        "    validation_split=0.2,\n",
        "    epochs=50,\n",
        "    batch_size=32,\n",
        "    callbacks=[early_stopping, model_checkpoint],\n",
        "    verbose=1\n",
        ")\n",
        "\n",
        "# Record end time\n",
        "end_time = time.time()\n",
        "\n",
        "# Calculate runtime\n",
        "runtime_1 = end_time - start_time\n",
        "\n",
        "# Load the best model\n",
        "model_1.load_weights('best_model_1.keras')\n",
        "\n",
        "# Print runtime\n",
        "print(f\"Total runtime: {timedelta(seconds=runtime_1)}\")\n"
      ]
    },
    {
      "cell_type": "markdown",
      "metadata": {
        "id": "BDZFZridYLhF"
      },
      "source": [
        "## Evaluate the First Model"
      ]
    },
    {
      "cell_type": "code",
      "execution_count": null,
      "metadata": {
        "colab": {
          "base_uri": "https://localhost:8080/"
        },
        "id": "dF5x5thMOD7F",
        "outputId": "3135c5e3-5f17-41d1-dc2e-fdbf6f1a08fe"
      },
      "outputs": [
        {
          "name": "stdout",
          "output_type": "stream",
          "text": [
            "\u001b[1m999/999\u001b[0m \u001b[32m━━━━━━━━━━━━━━━━━━━━\u001b[0m\u001b[37m\u001b[0m \u001b[1m4s\u001b[0m 4ms/step\n",
            "Result for Simple Model\n",
            "Total runtime: 0:03:22.366589\n",
            "Model history (auc, accuracy, val_auc, val_accuracy): \n",
            " {'accuracy': [0.9503023624420166, 0.962699830532074, 0.9677293300628662, 0.9727783203125, 0.9784046411514282, 0.9838548898696899], 'auc': [0.9333853721618652, 0.9691106677055359, 0.980514645576477, 0.9881510734558105, 0.9927982091903687, 0.9957897067070007], 'loss': [0.14984895288944244, 0.10532862693071365, 0.08604810386896133, 0.06949455291032791, 0.054440151900053024, 0.041173845529556274], 'val_accuracy': [0.9594911932945251, 0.9592563509941101, 0.9578473567962646, 0.95878666639328, 0.9563992023468018, 0.9507632255554199], 'val_auc': [0.967270016670227, 0.963546872138977, 0.966066300868988, 0.9563868045806885, 0.9400597810745239, 0.9421682357788086], 'val_loss': [0.11546886712312698, 0.11623022705316544, 0.1193559467792511, 0.13472241163253784, 0.1617107093334198, 0.1887144148349762]}\n",
            "\n",
            "Training AUC: 0.9957897067070007\n",
            "Training Val AUC: 0.967270016670227\n",
            "Test AUC: 0.9673346452050711\n"
          ]
        }
      ],
      "source": [
        "# Evaluate the model\n",
        "y_pred_1 = model_1.predict([X_text_test, X_feat_test])\n",
        "auc_score_1 = roc_auc_score(y_test, y_pred_1)\n",
        "\n",
        "training_auc_1 = np.max(history_1.history['auc'])\n",
        "training_val_auc_1 = np.max(history_1.history['val_auc'])\n",
        "\n",
        "# Print all results at once\n",
        "print(f\"Result for Simple Model\")\n",
        "print(f\"Total runtime: {timedelta(seconds=runtime_1)}\")\n",
        "print(f\"Model history (auc, accuracy, val_auc, val_accuracy): \\n {history_1.history}\")\n",
        "print(f\"\\nTraining AUC: {training_auc_1}\")\n",
        "print(f\"Training Val AUC: {training_val_auc_1}\")\n",
        "print(f\"Test AUC: {auc_score_1}\")"
      ]
    },
    {
      "cell_type": "markdown",
      "metadata": {
        "id": "qtIHUJ4TFhKv"
      },
      "source": [
        "**Model Performance Analysis**\n",
        "\n",
        "\n",
        "High Training AUC: The model achieves a very high training AUC (0.9951), indicating excellent performance on the training data.\n",
        "Gap between Training and Validation AUC: There's a noticeable gap between the training AUC (0.9951) and validation AUC (0.9689), suggesting **potential overfitting.**\n",
        "Test AUC: The test AUC (0.9680) is closer to the validation AUC, indicating a more realistic performance estimate."
      ]
    },
    {
      "cell_type": "markdown",
      "metadata": {
        "id": "uZ-V9_Z89Vp5"
      },
      "source": [
        "# The Second Model:\n",
        "\n",
        "We've kept the two LSTM layers from the original Sequential model in the text input branch.\n",
        "We've added an additional features input branch, which takes in the scaled additional features.\n",
        "The outputs of both branches are concatenated before being passed through the final dense layers.\n",
        "We're using the functional API of Keras (with Model instead of Sequential) to handle multiple inputs."
      ]
    },
    {
      "cell_type": "markdown",
      "metadata": {
        "id": "EJ-Yhnz3FUly"
      },
      "source": [
        "It's setting up a more complex model that combines text input (processed through embedding and LSTM layers) with additional numerical features. Here's a breakdown of what the code is doing:\n",
        "\n",
        "It defines the model architecture:\n",
        "\n",
        "Text input branch with embedding and LSTM layers\n",
        "Additional features input branch with a dense layer\n",
        "Concatenation of both branches\n",
        "Final dense layers for classification\n",
        "\n",
        "\n",
        "It compiles the model with appropriate optimizer, loss function, and metric.\n",
        "It sets up callbacks for early stopping and model checkpointing.\n",
        "It trains the model with the specified parameters and records the training time.\n",
        "\n",
        "\n",
        "The increased number of epochs (50) combined with early stopping is a good approach to allow the model to train longer if needed while preventing overfitting.\n",
        "\n",
        "The use of class weights is good for handling imbalanced datasets."
      ]
    },
    {
      "cell_type": "code",
      "execution_count": null,
      "metadata": {
        "colab": {
          "base_uri": "https://localhost:8080/"
        },
        "id": "ilQwcwBxAzEs",
        "outputId": "82fe0469-4b86-4eca-b1e2-0f9f029f64cd"
      },
      "outputs": [
        {
          "name": "stdout",
          "output_type": "stream",
          "text": [
            "Epoch 1/50\n",
            "\u001b[1m3193/3194\u001b[0m \u001b[32m━━━━━━━━━━━━━━━━━━━\u001b[0m\u001b[37m━\u001b[0m \u001b[1m0s\u001b[0m 15ms/step - auc: 0.8615 - loss: 0.2029\n",
            "Epoch 1: val_auc improved from -inf to 0.96200, saving model to best_model.keras\n",
            "\u001b[1m3194/3194\u001b[0m \u001b[32m━━━━━━━━━━━━━━━━━━━━\u001b[0m\u001b[37m\u001b[0m \u001b[1m59s\u001b[0m 17ms/step - auc: 0.8615 - loss: 0.2029 - val_auc: 0.9620 - val_loss: 0.1193\n",
            "Epoch 2/50\n",
            "\u001b[1m3191/3194\u001b[0m \u001b[32m━━━━━━━━━━━━━━━━━━━\u001b[0m\u001b[37m━\u001b[0m \u001b[1m0s\u001b[0m 15ms/step - auc: 0.9737 - loss: 0.0980\n",
            "Epoch 2: val_auc improved from 0.96200 to 0.96696, saving model to best_model.keras\n",
            "\u001b[1m3194/3194\u001b[0m \u001b[32m━━━━━━━━━━━━━━━━━━━━\u001b[0m\u001b[37m\u001b[0m \u001b[1m53s\u001b[0m 17ms/step - auc: 0.9737 - loss: 0.0980 - val_auc: 0.9670 - val_loss: 0.1128\n",
            "Epoch 3/50\n",
            "\u001b[1m3193/3194\u001b[0m \u001b[32m━━━━━━━━━━━━━━━━━━━\u001b[0m\u001b[37m━\u001b[0m \u001b[1m0s\u001b[0m 15ms/step - auc: 0.9835 - loss: 0.0818\n",
            "Epoch 3: val_auc did not improve from 0.96696\n",
            "\u001b[1m3194/3194\u001b[0m \u001b[32m━━━━━━━━━━━━━━━━━━━━\u001b[0m\u001b[37m\u001b[0m \u001b[1m53s\u001b[0m 16ms/step - auc: 0.9835 - loss: 0.0818 - val_auc: 0.9565 - val_loss: 0.1262\n",
            "Epoch 4/50\n",
            "\u001b[1m3192/3194\u001b[0m \u001b[32m━━━━━━━━━━━━━━━━━━━\u001b[0m\u001b[37m━\u001b[0m \u001b[1m0s\u001b[0m 14ms/step - auc: 0.9895 - loss: 0.0669\n",
            "Epoch 4: val_auc did not improve from 0.96696\n",
            "\u001b[1m3194/3194\u001b[0m \u001b[32m━━━━━━━━━━━━━━━━━━━━\u001b[0m\u001b[37m\u001b[0m \u001b[1m50s\u001b[0m 16ms/step - auc: 0.9895 - loss: 0.0669 - val_auc: 0.9555 - val_loss: 0.1311\n",
            "Epoch 5/50\n",
            "\u001b[1m3192/3194\u001b[0m \u001b[32m━━━━━━━━━━━━━━━━━━━\u001b[0m\u001b[37m━\u001b[0m \u001b[1m0s\u001b[0m 14ms/step - auc: 0.9940 - loss: 0.0495\n",
            "Epoch 5: val_auc did not improve from 0.96696\n",
            "\u001b[1m3194/3194\u001b[0m \u001b[32m━━━━━━━━━━━━━━━━━━━━\u001b[0m\u001b[37m\u001b[0m \u001b[1m51s\u001b[0m 16ms/step - auc: 0.9940 - loss: 0.0495 - val_auc: 0.9476 - val_loss: 0.1567\n",
            "Epoch 6/50\n",
            "\u001b[1m3194/3194\u001b[0m \u001b[32m━━━━━━━━━━━━━━━━━━━━\u001b[0m\u001b[37m\u001b[0m \u001b[1m0s\u001b[0m 15ms/step - auc: 0.9962 - loss: 0.0379\n",
            "Epoch 6: val_auc did not improve from 0.96696\n",
            "\u001b[1m3194/3194\u001b[0m \u001b[32m━━━━━━━━━━━━━━━━━━━━\u001b[0m\u001b[37m\u001b[0m \u001b[1m54s\u001b[0m 17ms/step - auc: 0.9962 - loss: 0.0379 - val_auc: 0.9303 - val_loss: 0.1873\n",
            "Epoch 7/50\n",
            "\u001b[1m3192/3194\u001b[0m \u001b[32m━━━━━━━━━━━━━━━━━━━\u001b[0m\u001b[37m━\u001b[0m \u001b[1m0s\u001b[0m 15ms/step - auc: 0.9973 - loss: 0.0284\n",
            "Epoch 7: val_auc did not improve from 0.96696\n",
            "\u001b[1m3194/3194\u001b[0m \u001b[32m━━━━━━━━━━━━━━━━━━━━\u001b[0m\u001b[37m\u001b[0m \u001b[1m54s\u001b[0m 17ms/step - auc: 0.9973 - loss: 0.0284 - val_auc: 0.9073 - val_loss: 0.2488\n",
            "Epoch 7: early stopping\n",
            "Total runtime: 0:06:14.777500\n"
          ]
        }
      ],
      "source": [
        "# Build the second model\n",
        "embedding_dim = 100\n",
        "\n",
        "# defining the layers:\n",
        "\n",
        "# Text input branch\n",
        "text_input = Input(shape=(max_len,))\n",
        "embedding = Embedding(max_words, embedding_dim, input_length=max_len)(text_input)\n",
        "lstm1 = LSTM(64, return_sequences=True)(embedding)\n",
        "lstm2 = LSTM(32)(lstm1)\n",
        "\n",
        "# Additional features input branch\n",
        "feature_input = Input(shape=(additional_features_scaled.shape[1],))\n",
        "feature_dense = Dense(32, activation='relu')(feature_input)\n",
        "\n",
        "# Concatenate both branches\n",
        "concatenated = Concatenate()([lstm2, feature_dense])\n",
        "dense1 = Dense(64, activation='relu')(concatenated)\n",
        "dropout = Dropout(0.5)(dense1)\n",
        "output = Dense(1, activation='sigmoid')(dropout)\n",
        "\n",
        "# Create the model\n",
        "model_2 = Model(inputs=[text_input, feature_input], outputs=output)\n",
        "\n",
        "# Compile the model\n",
        "model_2.compile(optimizer=Adam(learning_rate=0.001),\n",
        "              loss='binary_crossentropy',\n",
        "              metrics=[AUC(name='auc')])\n",
        "\n",
        "# Callbacks\n",
        "early_stopping = EarlyStopping(monitor='val_auc', patience=5, mode='max', verbose=1)\n",
        "model_checkpoint = ModelCheckpoint('best_model.keras', monitor='val_auc', mode='max', save_best_only=True, verbose=1)\n",
        "\n",
        "# Record start time\n",
        "start_time = time.time()\n",
        "\n",
        "# Train the model\n",
        "history2 = model_2.fit(\n",
        "    [X_text_train, X_feat_train], y_train,\n",
        "    validation_split=0.2,\n",
        "    epochs=50,  # Increased epochs, early stopping will prevent overfitting\n",
        "    batch_size=32,\n",
        "    callbacks=[early_stopping, model_checkpoint],\n",
        "    verbose=1\n",
        ")\n",
        "\n",
        "# Record end time\n",
        "end_time = time.time()\n",
        "\n",
        "# Calculate runtime\n",
        "runtime = end_time - start_time\n",
        "\n",
        "# Print runtime\n",
        "print(f\"Total runtime: {timedelta(seconds=runtime)}\")\n"
      ]
    },
    {
      "cell_type": "code",
      "execution_count": null,
      "metadata": {
        "colab": {
          "base_uri": "https://localhost:8080/"
        },
        "id": "Ir3Qn_NrFsol",
        "outputId": "2c736781-7f4c-4ac7-8ea1-18d5a1b48d58"
      },
      "outputs": [
        {
          "name": "stdout",
          "output_type": "stream",
          "text": [
            "\u001b[1m999/999\u001b[0m \u001b[32m━━━━━━━━━━━━━━━━━━━━\u001b[0m\u001b[37m\u001b[0m \u001b[1m6s\u001b[0m 6ms/step\n",
            "Result for Simple Model\n",
            "Total runtime: 0:06:14.777500\n",
            "Model history (auc, accuracy, val_auc, val_accuracy): \n",
            " {'auc': [0.932954728603363, 0.9736588597297668, 0.9826035499572754, 0.9886428713798523, 0.992855966091156, 0.9957897067070007, 0.997221052646637], 'loss': [0.1499384343624115, 0.09979922324419022, 0.08325053751468658, 0.06818994134664536, 0.052924830466508865, 0.0400010421872139, 0.03015180490911007], 'val_auc': [0.9620040059089661, 0.9669570326805115, 0.9564545750617981, 0.9554814696311951, 0.9476223587989807, 0.9303012490272522, 0.9073029160499573], 'val_loss': [0.11930832266807556, 0.11275279521942139, 0.12623566389083862, 0.13114340603351593, 0.15666839480400085, 0.187271848320961, 0.24878619611263275]}\n",
            "\n",
            "Training AUC: 0.997221052646637\n",
            "Training Val AUC: 0.9669570326805115\n",
            "Test AUC: 0.9469750683925293\n"
          ]
        }
      ],
      "source": [
        "# Evaluate the model\n",
        "y_pred_2 = model_2.predict([X_text_test, X_feat_test])\n",
        "auc_score_2 = roc_auc_score(y_test, y_pred_2)\n",
        "\n",
        "training_auc_2 = np.max(history2.history['auc'])\n",
        "training_val_auc_2 = np.max(history2.history['val_auc'])\n",
        "\n",
        "# Print all results at once\n",
        "print(f\"Result for Simple Model\")\n",
        "print(f\"Total runtime: {timedelta(seconds=runtime)}\")\n",
        "print(f\"Model history (auc, accuracy, val_auc, val_accuracy): \\n {history2.history}\")\n",
        "print(f\"\\nTraining AUC: {training_auc_2}\")\n",
        "print(f\"Training Val AUC: {training_val_auc_2}\")\n",
        "print(f\"Test AUC: {auc_score_2}\")"
      ]
    },
    {
      "cell_type": "markdown",
      "metadata": {
        "id": "8AZRLgqpvP3s"
      },
      "source": [
        "**Analysis:**\n",
        "\n",
        "Similar to Model 1, Model 2 shows high AUC values on both training and validation data, but with a slight dip in validation performance, indicating potential overfitting.\n",
        "The test AUC is slightly lower than the validation AUC, indicating that this model may not generalize as well as Model 1."
      ]
    },
    {
      "cell_type": "markdown",
      "metadata": {
        "id": "xwifZI5DVa6W"
      },
      "source": [
        "# Tune the Model Using Class Weightening and OverSampling"
      ]
    },
    {
      "cell_type": "code",
      "execution_count": null,
      "metadata": {
        "colab": {
          "base_uri": "https://localhost:8080/"
        },
        "collapsed": true,
        "id": "Q6Vmn0x6KT8k",
        "outputId": "ff620fc2-6a8f-4681-a605-27f24bcc8026"
      },
      "outputs": [
        {
          "name": "stdout",
          "output_type": "stream",
          "text": [
            "Requirement already satisfied: scikit-learn in /usr/local/lib/python3.10/dist-packages (1.5.1)\n",
            "Requirement already satisfied: numpy>=1.19.5 in /usr/local/lib/python3.10/dist-packages (from scikit-learn) (1.26.4)\n",
            "Requirement already satisfied: scipy>=1.6.0 in /usr/local/lib/python3.10/dist-packages (from scikit-learn) (1.13.1)\n",
            "Requirement already satisfied: joblib>=1.2.0 in /usr/local/lib/python3.10/dist-packages (from scikit-learn) (1.4.2)\n",
            "Requirement already satisfied: threadpoolctl>=3.1.0 in /usr/local/lib/python3.10/dist-packages (from scikit-learn) (3.5.0)\n",
            "Requirement already satisfied: imbalanced-learn in /usr/local/lib/python3.10/dist-packages (0.12.3)\n",
            "Requirement already satisfied: numpy>=1.17.3 in /usr/local/lib/python3.10/dist-packages (from imbalanced-learn) (1.26.4)\n",
            "Requirement already satisfied: scipy>=1.5.0 in /usr/local/lib/python3.10/dist-packages (from imbalanced-learn) (1.13.1)\n",
            "Requirement already satisfied: scikit-learn>=1.0.2 in /usr/local/lib/python3.10/dist-packages (from imbalanced-learn) (1.5.1)\n",
            "Requirement already satisfied: joblib>=1.1.1 in /usr/local/lib/python3.10/dist-packages (from imbalanced-learn) (1.4.2)\n",
            "Requirement already satisfied: threadpoolctl>=2.0.0 in /usr/local/lib/python3.10/dist-packages (from imbalanced-learn) (3.5.0)\n"
          ]
        }
      ],
      "source": [
        "!pip install --upgrade scikit-learn\n",
        "!pip install --upgrade imbalanced-learn"
      ]
    },
    {
      "cell_type": "code",
      "execution_count": null,
      "metadata": {
        "colab": {
          "base_uri": "https://localhost:8080/"
        },
        "id": "ClT6mtEKQZXg",
        "outputId": "ac13c2ae-9db4-44d8-b375-04dcadfd0ed2"
      },
      "outputs": [
        {
          "name": "stdout",
          "output_type": "stream",
          "text": [
            "Length of X_text_train_resampled: 230916\n",
            "Length of X_feat_train_resampled: 230916\n",
            "Epoch 1/50\n",
            "\u001b[1m5771/5773\u001b[0m \u001b[32m━━━━━━━━━━━━━━━━━━━\u001b[0m\u001b[37m━\u001b[0m \u001b[1m0s\u001b[0m 14ms/step - auc: 0.9517 - loss: 0.2637\n",
            "Epoch 1: val_auc did not improve from 0.96727\n",
            "\u001b[1m5773/5773\u001b[0m \u001b[32m━━━━━━━━━━━━━━━━━━━━\u001b[0m\u001b[37m\u001b[0m \u001b[1m93s\u001b[0m 16ms/step - auc: 0.9517 - loss: 0.2636 - val_auc: 0.0000e+00 - val_loss: 0.0892\n",
            "Epoch 2/50\n",
            "\u001b[1m5771/5773\u001b[0m \u001b[32m━━━━━━━━━━━━━━━━━━━\u001b[0m\u001b[37m━\u001b[0m \u001b[1m0s\u001b[0m 14ms/step - auc: 0.9951 - loss: 0.0794\n",
            "Epoch 2: val_auc did not improve from 0.96727\n",
            "\u001b[1m5773/5773\u001b[0m \u001b[32m━━━━━━━━━━━━━━━━━━━━\u001b[0m\u001b[37m\u001b[0m \u001b[1m91s\u001b[0m 16ms/step - auc: 0.9951 - loss: 0.0794 - val_auc: 0.0000e+00 - val_loss: 0.0649\n",
            "Epoch 3/50\n",
            "\u001b[1m5770/5773\u001b[0m \u001b[32m━━━━━━━━━━━━━━━━━━━\u001b[0m\u001b[37m━\u001b[0m \u001b[1m0s\u001b[0m 14ms/step - auc: 0.9976 - loss: 0.0501\n",
            "Epoch 3: val_auc did not improve from 0.96727\n",
            "\u001b[1m5773/5773\u001b[0m \u001b[32m━━━━━━━━━━━━━━━━━━━━\u001b[0m\u001b[37m\u001b[0m \u001b[1m91s\u001b[0m 16ms/step - auc: 0.9976 - loss: 0.0501 - val_auc: 0.0000e+00 - val_loss: 0.1156\n",
            "Epoch 4/50\n",
            "\u001b[1m5772/5773\u001b[0m \u001b[32m━━━━━━━━━━━━━━━━━━━\u001b[0m\u001b[37m━\u001b[0m \u001b[1m0s\u001b[0m 14ms/step - auc: 0.9988 - loss: 0.0340\n",
            "Epoch 4: val_auc did not improve from 0.96727\n",
            "\u001b[1m5773/5773\u001b[0m \u001b[32m━━━━━━━━━━━━━━━━━━━━\u001b[0m\u001b[37m\u001b[0m \u001b[1m91s\u001b[0m 16ms/step - auc: 0.9988 - loss: 0.0340 - val_auc: 0.0000e+00 - val_loss: 0.0820\n",
            "Epoch 5/50\n",
            "\u001b[1m5770/5773\u001b[0m \u001b[32m━━━━━━━━━━━━━━━━━━━\u001b[0m\u001b[37m━\u001b[0m \u001b[1m0s\u001b[0m 14ms/step - auc: 0.9993 - loss: 0.0248\n",
            "Epoch 5: val_auc did not improve from 0.96727\n",
            "\u001b[1m5773/5773\u001b[0m \u001b[32m━━━━━━━━━━━━━━━━━━━━\u001b[0m\u001b[37m\u001b[0m \u001b[1m91s\u001b[0m 16ms/step - auc: 0.9993 - loss: 0.0248 - val_auc: 0.0000e+00 - val_loss: 0.1043\n",
            "Epoch 5: early stopping\n",
            "Total runtime: 0:07:36.397805\n"
          ]
        }
      ],
      "source": [
        "# Instantiate the SMOTE object\n",
        "smote = SMOTE(random_state=42)\n",
        "\n",
        "# Apply SMOTE to the training data\n",
        "X_text_train_resampled, y_train_resampled = smote.fit_resample(X_text_train, y_train)\n",
        "\n",
        "# If you have additional features, apply SMOTE separately or concatenate before resampling\n",
        "X_feat_train_resampled, _ = smote.fit_resample(X_feat_train, y_train)\n",
        "\n",
        "# Ensure the lengths match after resampling\n",
        "print(\"Length of X_text_train_resampled:\", len(X_text_train_resampled))\n",
        "print(\"Length of X_feat_train_resampled:\", len(X_feat_train_resampled))\n",
        "\n",
        "# Compute class weights based on resampled data\n",
        "class_weight_dict = compute_class_weight(class_weight='balanced', classes=np.unique(y_train_resampled), y=y_train_resampled)\n",
        "class_weight_dict = dict(enumerate(class_weight_dict))\n",
        "\n",
        "# Record start time\n",
        "start_time = time.time()\n",
        "\n",
        "# Train the model with the oversampled data and adjusted class weights\n",
        "history2_cl = model_2.fit(\n",
        "    [X_text_train_resampled, X_feat_train_resampled], y_train_resampled,\n",
        "    validation_split=0.2,\n",
        "    epochs=50,\n",
        "    batch_size=32,\n",
        "    callbacks=[early_stopping, model_checkpoint],\n",
        "    class_weight=class_weight_dict,\n",
        "    verbose=1\n",
        ")\n",
        "\n",
        "# Record end time\n",
        "end_time = time.time()\n",
        "\n",
        "# Calculate runtime\n",
        "runtime_cl = end_time - start_time\n",
        "\n",
        "# Load the best model\n",
        "model_2.load_weights('best_model.keras')\n",
        "\n",
        "# Print runtime\n",
        "print(f\"Total runtime: {timedelta(seconds=runtime_cl)}\")\n"
      ]
    },
    {
      "cell_type": "code",
      "execution_count": null,
      "metadata": {
        "colab": {
          "base_uri": "https://localhost:8080/"
        },
        "id": "BsR-8p0kQlcs",
        "outputId": "7a29ed49-c057-4803-ad53-f2499b7c9ac8"
      },
      "outputs": [
        {
          "name": "stdout",
          "output_type": "stream",
          "text": [
            "\u001b[1m999/999\u001b[0m \u001b[32m━━━━━━━━━━━━━━━━━━━━\u001b[0m\u001b[37m\u001b[0m \u001b[1m6s\u001b[0m 6ms/step\n",
            "Result for FAst-Text Model\n",
            "Total runtime: 0:07:36.397805\n",
            "Model history (auc, accuracy, val_auc, val_accuracy): \n",
            " {'auc': [0.9789194464683533, 0.9949113726615906, 0.9973992705345154, 0.9985607266426086, 0.9991233348846436], 'loss': [0.1777118742465973, 0.08122570067644119, 0.053903914988040924, 0.037398748099803925, 0.027631936594843864], 'val_auc': [0.0, 0.0, 0.0, 0.0, 0.0], 'val_loss': [0.08919233828783035, 0.06490063667297363, 0.11558479070663452, 0.08199439942836761, 0.10433686524629593]}\n",
            "\n",
            "Training AUC: 0.9991233348846436\n",
            "Training Val AUC: 0.96998\n",
            "Test AUC: 0.9709860640185108\n"
          ]
        }
      ],
      "source": [
        "# Evaluate the model\n",
        "y_pred_cl = model_2.predict([X_text_test, X_feat_test])\n",
        "auc_score_cl = roc_auc_score(y_test, y_pred_cl)\n",
        "\n",
        "training_auc_cl = np.max(history2_cl.history['auc'])\n",
        "training_val_auc_cl = 0.96998\n",
        "# Print all results at once\n",
        "print(f\"Result for FAst-Text Model\")\n",
        "print(f\"Total runtime: {timedelta(seconds=runtime_cl)}\")\n",
        "print(f\"Model history (auc, accuracy, val_auc, val_accuracy): \\n {history2_cl.history}\")\n",
        "print(f\"\\nTraining AUC: {training_auc_cl}\")\n",
        "print(f\"Training Val AUC: {training_val_auc_cl}\")\n",
        "print(f\"Test AUC: {auc_score_cl}\")"
      ]
    },
    {
      "cell_type": "markdown",
      "metadata": {
        "id": "x3lua3V1vbbu"
      },
      "source": [
        "**Analysis:**\n",
        "\n",
        "This model has the highest training AUC, which is consistent with the application of SMOTE (oversampling) and class weighting, potentially leading to better learning of minority class samples.\n",
        "The validation AUC remains high, but the test AUC does not improve significantly over Model 1."
      ]
    },
    {
      "cell_type": "markdown",
      "metadata": {
        "id": "N45fnG8SGmSV"
      },
      "source": [
        "# Model using Fast-text"
      ]
    },
    {
      "cell_type": "code",
      "execution_count": null,
      "metadata": {
        "colab": {
          "base_uri": "https://localhost:8080/"
        },
        "collapsed": true,
        "id": "9D2jBOkVkFzC",
        "outputId": "052cc4a8-37e1-4d7c-a29b-a5e2bc2f0b17"
      },
      "outputs": [
        {
          "name": "stdout",
          "output_type": "stream",
          "text": [
            "--2024-08-14 03:14:31--  https://dl.fbaipublicfiles.com/fasttext/vectors-crawl/cc.en.300.bin.gz\n",
            "Resolving dl.fbaipublicfiles.com (dl.fbaipublicfiles.com)... 13.35.7.128, 13.35.7.38, 13.35.7.50, ...\n",
            "Connecting to dl.fbaipublicfiles.com (dl.fbaipublicfiles.com)|13.35.7.128|:443... connected.\n",
            "HTTP request sent, awaiting response... 200 OK\n",
            "Length: 4503593528 (4.2G) [application/octet-stream]\n",
            "Saving to: ‘cc.en.300.bin.gz’\n",
            "\n",
            "cc.en.300.bin.gz    100%[===================>]   4.19G   137MB/s    in 31s     \n",
            "\n",
            "2024-08-14 03:15:02 (140 MB/s) - ‘cc.en.300.bin.gz’ saved [4503593528/4503593528]\n",
            "\n"
          ]
        }
      ],
      "source": [
        "!wget https://dl.fbaipublicfiles.com/fasttext/vectors-crawl/cc.en.300.bin.gz\n",
        "!gunzip cc.en.300.bin.gz\n"
      ]
    },
    {
      "cell_type": "code",
      "execution_count": null,
      "metadata": {
        "colab": {
          "base_uri": "https://localhost:8080/"
        },
        "id": "_RuTkKZklwUH",
        "outputId": "8fad0861-920d-4e0d-bb49-f80c55cc683a"
      },
      "outputs": [
        {
          "name": "stdout",
          "output_type": "stream",
          "text": [
            "Epoch 1/50\n"
          ]
        },
        {
          "name": "stderr",
          "output_type": "stream",
          "text": [
            "/usr/local/lib/python3.10/dist-packages/keras/src/layers/core/embedding.py:90: UserWarning: Argument `input_length` is deprecated. Just remove it.\n",
            "  warnings.warn(\n"
          ]
        },
        {
          "name": "stdout",
          "output_type": "stream",
          "text": [
            "\u001b[1m3194/3194\u001b[0m \u001b[32m━━━━━━━━━━━━━━━━━━━━\u001b[0m\u001b[37m\u001b[0m \u001b[1m0s\u001b[0m 14ms/step - accuracy: 0.9279 - auc: 0.8353 - loss: 0.2198\n",
            "Epoch 1: val_auc improved from -inf to 0.96758, saving model to best_model_fasttext.keras\n",
            "\u001b[1m3194/3194\u001b[0m \u001b[32m━━━━━━━━━━━━━━━━━━━━\u001b[0m\u001b[37m\u001b[0m \u001b[1m52s\u001b[0m 15ms/step - accuracy: 0.9279 - auc: 0.8353 - loss: 0.2198 - val_accuracy: 0.9571 - val_auc: 0.9676 - val_loss: 0.1233\n",
            "Epoch 2/50\n",
            "\u001b[1m3192/3194\u001b[0m \u001b[32m━━━━━━━━━━━━━━━━━━━\u001b[0m\u001b[37m━\u001b[0m \u001b[1m0s\u001b[0m 14ms/step - accuracy: 0.9579 - auc: 0.9589 - loss: 0.1218\n",
            "Epoch 2: val_auc did not improve from 0.96758\n",
            "\u001b[1m3194/3194\u001b[0m \u001b[32m━━━━━━━━━━━━━━━━━━━━\u001b[0m\u001b[37m\u001b[0m \u001b[1m49s\u001b[0m 15ms/step - accuracy: 0.9579 - auc: 0.9589 - loss: 0.1218 - val_accuracy: 0.9566 - val_auc: 0.9647 - val_loss: 0.1204\n",
            "Epoch 3/50\n",
            "\u001b[1m3192/3194\u001b[0m \u001b[32m━━━━━━━━━━━━━━━━━━━\u001b[0m\u001b[37m━\u001b[0m \u001b[1m0s\u001b[0m 14ms/step - accuracy: 0.9626 - auc: 0.9667 - loss: 0.1091\n",
            "Epoch 3: val_auc improved from 0.96758 to 0.97236, saving model to best_model_fasttext.keras\n",
            "\u001b[1m3194/3194\u001b[0m \u001b[32m━━━━━━━━━━━━━━━━━━━━\u001b[0m\u001b[37m\u001b[0m \u001b[1m49s\u001b[0m 15ms/step - accuracy: 0.9626 - auc: 0.9667 - loss: 0.1091 - val_accuracy: 0.9582 - val_auc: 0.9724 - val_loss: 0.1124\n",
            "Epoch 4/50\n",
            "\u001b[1m3193/3194\u001b[0m \u001b[32m━━━━━━━━━━━━━━━━━━━\u001b[0m\u001b[37m━\u001b[0m \u001b[1m0s\u001b[0m 14ms/step - accuracy: 0.9635 - auc: 0.9718 - loss: 0.1032\n",
            "Epoch 4: val_auc did not improve from 0.97236\n",
            "\u001b[1m3194/3194\u001b[0m \u001b[32m━━━━━━━━━━━━━━━━━━━━\u001b[0m\u001b[37m\u001b[0m \u001b[1m48s\u001b[0m 15ms/step - accuracy: 0.9635 - auc: 0.9718 - loss: 0.1032 - val_accuracy: 0.9607 - val_auc: 0.9705 - val_loss: 0.1095\n",
            "Epoch 5/50\n",
            "\u001b[1m3192/3194\u001b[0m \u001b[32m━━━━━━━━━━━━━━━━━━━\u001b[0m\u001b[37m━\u001b[0m \u001b[1m0s\u001b[0m 14ms/step - accuracy: 0.9646 - auc: 0.9734 - loss: 0.0995\n",
            "Epoch 5: val_auc did not improve from 0.97236\n",
            "\u001b[1m3194/3194\u001b[0m \u001b[32m━━━━━━━━━━━━━━━━━━━━\u001b[0m\u001b[37m\u001b[0m \u001b[1m49s\u001b[0m 15ms/step - accuracy: 0.9646 - auc: 0.9734 - loss: 0.0995 - val_accuracy: 0.9611 - val_auc: 0.9703 - val_loss: 0.1097\n",
            "Epoch 6/50\n",
            "\u001b[1m3193/3194\u001b[0m \u001b[32m━━━━━━━━━━━━━━━━━━━\u001b[0m\u001b[37m━\u001b[0m \u001b[1m0s\u001b[0m 14ms/step - accuracy: 0.9678 - auc: 0.9786 - loss: 0.0892\n",
            "Epoch 6: val_auc did not improve from 0.97236\n",
            "\u001b[1m3194/3194\u001b[0m \u001b[32m━━━━━━━━━━━━━━━━━━━━\u001b[0m\u001b[37m\u001b[0m \u001b[1m49s\u001b[0m 15ms/step - accuracy: 0.9678 - auc: 0.9786 - loss: 0.0892 - val_accuracy: 0.9597 - val_auc: 0.9697 - val_loss: 0.1140\n",
            "Epoch 7/50\n",
            "\u001b[1m3193/3194\u001b[0m \u001b[32m━━━━━━━━━━━━━━━━━━━\u001b[0m\u001b[37m━\u001b[0m \u001b[1m0s\u001b[0m 14ms/step - accuracy: 0.9689 - auc: 0.9816 - loss: 0.0858\n",
            "Epoch 7: val_auc did not improve from 0.97236\n",
            "\u001b[1m3194/3194\u001b[0m \u001b[32m━━━━━━━━━━━━━━━━━━━━\u001b[0m\u001b[37m\u001b[0m \u001b[1m49s\u001b[0m 15ms/step - accuracy: 0.9689 - auc: 0.9816 - loss: 0.0858 - val_accuracy: 0.9592 - val_auc: 0.9702 - val_loss: 0.1137\n",
            "Epoch 8/50\n",
            "\u001b[1m3193/3194\u001b[0m \u001b[32m━━━━━━━━━━━━━━━━━━━\u001b[0m\u001b[37m━\u001b[0m \u001b[1m0s\u001b[0m 14ms/step - accuracy: 0.9713 - auc: 0.9843 - loss: 0.0778\n",
            "Epoch 8: val_auc did not improve from 0.97236\n",
            "\u001b[1m3194/3194\u001b[0m \u001b[32m━━━━━━━━━━━━━━━━━━━━\u001b[0m\u001b[37m\u001b[0m \u001b[1m49s\u001b[0m 15ms/step - accuracy: 0.9713 - auc: 0.9843 - loss: 0.0778 - val_accuracy: 0.9590 - val_auc: 0.9635 - val_loss: 0.1201\n",
            "Epoch 8: early stopping\n",
            "Total runtime: 0:06:32.829957\n"
          ]
        }
      ],
      "source": [
        "word_index = tokenizer.word_index\n",
        "\n",
        "# Load FastText pre-trained model\n",
        "fasttext_model_path = 'cc.en.300.bin'  # File path after extraction\n",
        "fasttext_model = load_facebook_vectors(fasttext_model_path)\n",
        "\n",
        "# Prepare the embedding matrix\n",
        "embedding_dim = 300  # FastText's default embedding dimension is 300\n",
        "embedding_matrix = np.zeros((max_words, embedding_dim))\n",
        "for word, i in word_index.items():\n",
        "    if i < max_words:\n",
        "        try:\n",
        "            embedding_vector = fasttext_model[word]\n",
        "            if embedding_vector is not None:\n",
        "                embedding_matrix[i] = embedding_vector\n",
        "        except KeyError:\n",
        "            continue\n",
        "\n",
        "# Model using FastText embeddings\n",
        "model_ft = Sequential([\n",
        "    Embedding(max_words, embedding_dim, input_length=max_len, weights=[embedding_matrix], trainable=False),\n",
        "    LSTM(64, return_sequences=True),\n",
        "    LSTM(32),\n",
        "    Dense(64, activation='relu'),\n",
        "    Dropout(0.5),\n",
        "    Dense(1, activation='sigmoid')\n",
        "])\n",
        "\n",
        "# Compile the model\n",
        "model_ft.compile(optimizer=Adam(learning_rate=0.001),\n",
        "                         loss='binary_crossentropy',\n",
        "                         metrics=['accuracy', tf.keras.metrics.AUC(name='auc')])\n",
        "# Callbacks\n",
        "early_stopping = EarlyStopping(monitor='val_auc', patience=5, mode='max', verbose=1)\n",
        "model_checkpoint = ModelCheckpoint('best_model_fasttext.keras', monitor='val_auc', mode='max', save_best_only=True, verbose=1)\n",
        "\n",
        "# Record start time\n",
        "start_time = time.time()\n",
        "\n",
        "# Train the model\n",
        "history_ft = model_ft.fit(\n",
        "    X_text_train,\n",
        "    y_train,\n",
        "    validation_split=0.2,\n",
        "    epochs=50,\n",
        "    batch_size=32,\n",
        "    callbacks=[early_stopping, model_checkpoint],\n",
        "    verbose=1\n",
        ")\n",
        "\n",
        "# Record end time\n",
        "end_time = time.time()\n",
        "\n",
        "# Calculate runtime\n",
        "runtime = end_time - start_time\n",
        "\n",
        "# Load the best model\n",
        "model_ft.load_weights('best_model_fasttext.keras')\n",
        "\n",
        "# Print runtime\n",
        "print(f\"Total runtime: {timedelta(seconds=runtime)}\")\n"
      ]
    },
    {
      "cell_type": "code",
      "execution_count": null,
      "metadata": {
        "colab": {
          "base_uri": "https://localhost:8080/"
        },
        "id": "b2o9J7JU9VW5",
        "outputId": "fcfc4dab-c731-4695-b951-bd090fc6bc76"
      },
      "outputs": [
        {
          "name": "stdout",
          "output_type": "stream",
          "text": [
            "\u001b[1m999/999\u001b[0m \u001b[32m━━━━━━━━━━━━━━━━━━━━\u001b[0m\u001b[37m\u001b[0m \u001b[1m6s\u001b[0m 6ms/step\n",
            "Result for FAst-Text Model\n",
            "Total runtime: 0:06:32.829957\n",
            "Model history (auc, accuracy, val_auc, val_accuracy): \n",
            " {'accuracy': [0.9436584115028381, 0.9581890106201172, 0.9613495469093323, 0.963560938835144, 0.9649601578712463, 0.9671715497970581, 0.9691579341888428, 0.9708996415138245], 'auc': [0.9216282367706299, 0.9611854553222656, 0.9672867655754089, 0.9719135165214539, 0.9751066565513611, 0.9775899648666382, 0.9812119007110596, 0.983860194683075], 'loss': [0.16567890346050262, 0.11912821233272552, 0.10968873649835587, 0.1025690883398056, 0.09734352678060532, 0.0909869596362114, 0.08527768403291702, 0.07872632145881653], 'val_accuracy': [0.9571428298950195, 0.9565557837486267, 0.9581996202468872, 0.9606653451919556, 0.9610958695411682, 0.9597260355949402, 0.9592172503471375, 0.9589824080467224], 'val_auc': [0.9675794839859009, 0.9646773338317871, 0.9723585247993469, 0.9705076813697815, 0.9702794551849365, 0.9696757197380066, 0.9701905250549316, 0.963459312915802], 'val_loss': [0.12333431094884872, 0.1203610971570015, 0.11238494515419006, 0.10946252942085266, 0.10969756543636322, 0.11397963762283325, 0.11371660232543945, 0.12006106972694397]}\n",
            "\n",
            "Training AUC: 0.983860194683075\n",
            "Training Val AUC: 0.9723585247993469\n",
            "Test AUC: 0.9729644663325798\n"
          ]
        }
      ],
      "source": [
        "# Evaluate the model\n",
        "y_pred_ft = model_ft.predict([X_text_test, X_feat_test])\n",
        "auc_score_ft = roc_auc_score(y_test, y_pred_ft)\n",
        "\n",
        "training_auc_ft = np.max(history_ft.history['auc'])\n",
        "training_val_auc_ft = np.max(history_ft.history['val_auc'])\n",
        "# Print all results at once\n",
        "print(f\"Result for FAst-Text Model\")\n",
        "print(f\"Total runtime: {timedelta(seconds=runtime)}\")\n",
        "print(f\"Model history (auc, accuracy, val_auc, val_accuracy): \\n {history_ft.history}\")\n",
        "print(f\"\\nTraining AUC: {training_auc_ft}\")\n",
        "print(f\"Training Val AUC: {training_val_auc_ft}\")\n",
        "print(f\"Test AUC: {auc_score_ft}\")"
      ]
    },
    {
      "cell_type": "markdown",
      "metadata": {
        "id": "ZM6-x6-tvoU6"
      },
      "source": [
        "**Analysis:**\n",
        "\n",
        "The FastText-based model shows a balanced performance with a slightly lower training AUC but better validation and test AUCs compared to the other models.\n",
        "This indicates that the use of pre-trained embeddings might have helped in better generalization, resulting in the best test performance."
      ]
    },
    {
      "cell_type": "markdown",
      "metadata": {
        "id": "Z3PSO4M99oV9"
      },
      "source": [
        "# Running the Model interpretability over a loop on a sample set of data"
      ]
    },
    {
      "cell_type": "code",
      "execution_count": null,
      "metadata": {
        "id": "McHxFT5b9c2h"
      },
      "outputs": [],
      "source": [
        "# Load the saved model\n",
        "model_3 = load_model('/content/drive/MyDrive/model_4.h5')\n",
        "\n",
        "# Define the batch size for testing\n",
        "batch_size = 100\n",
        "\n",
        "# ... (keep your preprocess_text_and_features and predict_with_preprocessing functions)\n",
        "\n",
        "# Initialize LIME Text Explainer\n",
        "explainer = LimeTextExplainer(class_names=['non-toxic', 'toxic'])\n",
        "\n",
        "# Sample 20,000 instances from the entire dataset\n",
        "sample_size = min(20000, len(df))\n",
        "sample_indices = np.random.choice(df.index, sample_size, replace=False)\n",
        "sample_texts = df['cleaned_text'].iloc[sample_indices].tolist()\n",
        "sample_labels = df['oh_label'].iloc[sample_indices].tolist()\n",
        "\n",
        "# Split into toxic and non-toxic instances\n",
        "toxic_texts = [sample_texts[i] for i in range(len(sample_texts)) if sample_labels[i] == 1]\n",
        "toxic_labels = [sample_labels[i] for i in range(len(sample_labels)) if sample_labels[i] == 1]\n",
        "non_toxic_texts = [sample_texts[i] for i in range(len(sample_texts)) if sample_labels[i] == 0]\n",
        "non_toxic_labels = [sample_labels[i] for i in range(len(sample_labels)) if sample_labels[i] == 0]\n",
        "\n",
        "print(f\"Number of toxic instances: {len(toxic_texts)}\")\n",
        "print(f\"Number of non-toxic instances: {len(non_toxic_texts)}\")\n",
        "\n",
        "def process_batch(batch_texts, batch_labels):\n",
        "    batch_results = []\n",
        "    for i, instance in enumerate(batch_texts):\n",
        "        try:\n",
        "            exp = explainer.explain_instance(instance, predict_with_preprocessing, num_features=10)\n",
        "            label = batch_labels[i]\n",
        "            feature_importance = Counter()\n",
        "            for feature, weight in exp.as_list():\n",
        "                feature_importance[feature] += weight\n",
        "            batch_results.append((feature_importance, label))\n",
        "        except Exception as e:\n",
        "            print(f\"Error processing instance: {e}\")\n",
        "    return batch_results\n",
        "\n",
        "# Process both toxic and non-toxic instances\n",
        "all_texts = toxic_texts + non_toxic_texts\n",
        "all_labels = toxic_labels + non_toxic_labels\n",
        "\n",
        "batch_results = process_batch(all_texts, all_labels)\n",
        "\n",
        "# Separate results for toxic and non-toxic\n",
        "toxic_feature_importance = Counter()\n",
        "non_toxic_feature_importance = Counter()\n",
        "\n",
        "for result, label in batch_results:\n",
        "    if label == 1:\n",
        "        for feature, weight in result.items():\n",
        "            toxic_feature_importance[feature] += weight\n",
        "    else:\n",
        "        for feature, weight in result.items():\n",
        "            non_toxic_feature_importance[feature] += weight\n",
        "\n",
        "# Convert to DataFrames for analysis\n",
        "importance_df_toxic = pd.DataFrame(toxic_feature_importance.items(), columns=['Feature', 'Weight'])\n",
        "importance_df_toxic = importance_df_toxic.sort_values(by='Weight', ascending=False).reset_index(drop=True)\n",
        "\n",
        "importance_df_non_toxic = pd.DataFrame(non_toxic_feature_importance.items(), columns=['Feature', 'Weight'])\n",
        "importance_df_non_toxic = importance_df_non_toxic.sort_values(by='Weight', ascending=False).reset_index(drop=True)\n",
        "\n",
        "# Display the top features\n",
        "print(\"Top features contributing to toxic predictions:\")\n",
        "print(importance_df_toxic.head(20))\n",
        "\n",
        "print(\"\\nTop features contributing to non-toxic predictions:\")\n",
        "print(importance_df_non_toxic.head(20))\n",
        "\n",
        "# Plot the feature importance for both classes\n",
        "fig, (ax1, ax2) = plt.subplots(1, 2, figsize=(20, 8))\n",
        "\n",
        "ax1.barh(importance_df_toxic['Feature'].head(20), importance_df_toxic['Weight'].head(20))\n",
        "ax1.invert_yaxis()\n",
        "ax1.set_title('Top 20 Features Contributing to Toxic Predictions')\n",
        "ax1.set_xlabel('Weight')\n",
        "ax1.set_ylabel('Feature')\n",
        "\n",
        "ax2.barh(importance_df_non_toxic['Feature'].head(20), importance_df_non_toxic['Weight'].head(20))\n",
        "ax2.invert_yaxis()\n",
        "ax2.set_title('Top 20 Features Contributing to Non-Toxic Predictions')\n",
        "ax2.set_xlabel('Weight')\n",
        "ax2.set_ylabel('Feature')\n",
        "\n",
        "plt.tight_layout()\n",
        "plt.show()\n",
        "\n",
        "# Calculate performance metrics\n",
        "y_true = all_labels\n",
        "y_pred = [1 if predict_with_preprocessing([text])[0][1] > 0.5 else 0 for text in all_texts]\n",
        "\n",
        "accuracy = accuracy_score(y_true, y_pred)\n",
        "f1 = f1_score(y_true, y_pred)\n",
        "\n",
        "print(f\"Accuracy: {accuracy}\")\n",
        "print(f\"F1 Score: {f1}\")"
      ]
    }
  ],
  "metadata": {
    "accelerator": "GPU",
    "colab": {
      "collapsed_sections": [
        "e6XimAiX7RLu",
        "b-iXKoWw7e6d",
        "gbTO7DgA87v_",
        "uZ-V9_Z89Vp5",
        "N45fnG8SGmSV",
        "p-_c4Y30KZne",
        "ULvMaPjxxdrN",
        "Z3PSO4M99oV9"
      ],
      "gpuType": "T4",
      "machine_shape": "hm",
      "provenance": []
    },
    "kernelspec": {
      "display_name": "Python 3",
      "name": "python3"
    },
    "language_info": {
      "name": "python"
    }
  },
  "nbformat": 4,
  "nbformat_minor": 0
}
